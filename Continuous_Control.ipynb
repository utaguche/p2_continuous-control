{
 "cells": [
  {
   "cell_type": "markdown",
   "metadata": {},
   "source": [
    "# Continuous Control\n",
    "\n",
    "---\n",
    "\n",
    "In this notebook, you will learn how to exploit the Unity ML-Agents environment for the second project of the [Deep Reinforcement Learning Nanodegree](https://www.udacity.com/course/deep-reinforcement-learning-nanodegree--nd893) program.\n",
    "\n",
    "Note that this notebook is designed for solving the second version of the project with 20 agents!\n",
    "\n",
    "### 1. Start the Environment\n",
    "\n",
    "We start from importing the necessary packages. If the code cell below causes an error, please revisit the project instructions to cross-check that you have successfully installed [Unity ML-Agents](https://github.com/Unity-Technologies/ml-agents/blob/master/docs/Installation.md) and [NumPy](http://www.numpy.org/)."
   ]
  },
  {
   "cell_type": "code",
   "execution_count": null,
   "metadata": {},
   "outputs": [],
   "source": [
    "# In case you use the Udacity work space.\n",
    "!pip -q install ./python"
   ]
  },
  {
   "cell_type": "code",
   "execution_count": 1,
   "metadata": {
    "scrolled": true
   },
   "outputs": [],
   "source": [
    "from unityagents import UnityEnvironment\n",
    "import numpy as np"
   ]
  },
  {
   "cell_type": "markdown",
   "metadata": {},
   "source": [
    "Next, we will start the environment!  **_Before running the code cell below_**, change the `file_name` parameter to match the location of the Unity environment that you downloaded.\n",
    "\n",
    "- **Mac**: `\"path/to/Reacher.app\"`\n",
    "- **Windows** (x86): `\"path/to/Reacher_Windows_x86/Reacher.exe\"`\n",
    "- **Windows** (x86_64): `\"path/to/Reacher_Windows_x86_64/Reacher.exe\"`\n",
    "- **Linux** (x86): `\"path/to/Reacher_Linux/Reacher.x86\"`\n",
    "- **Linux** (x86_64): `\"path/to/Reacher_Linux/Reacher.x86_64\"`\n",
    "- **Linux** (x86, headless): `\"path/to/Reacher_Linux_NoVis/Reacher.x86\"`\n",
    "- **Linux** (x86_64, headless): `\"path/to/Reacher_Linux_NoVis/Reacher.x86_64\"`\n",
    "\n",
    "For instance, if you are using a Mac, then you downloaded `Reacher.app`.  If this file is in the same folder as the notebook, then the line below should appear as follows:\n",
    "```\n",
    "env = UnityEnvironment(file_name=\"Reacher.app\")\n",
    "```"
   ]
  },
  {
   "cell_type": "code",
   "execution_count": 2,
   "metadata": {
    "scrolled": true
   },
   "outputs": [
    {
     "name": "stderr",
     "output_type": "stream",
     "text": [
      "INFO:unityagents:\n",
      "'Academy' started successfully!\n",
      "Unity Academy name: Academy\n",
      "        Number of Brains: 1\n",
      "        Number of External Brains : 1\n",
      "        Lesson number : 0\n",
      "        Reset Parameters :\n",
      "\t\tgoal_size -> 5.0\n",
      "\t\tgoal_speed -> 1.0\n",
      "Unity brain name: ReacherBrain\n",
      "        Number of Visual Observations (per agent): 0\n",
      "        Vector Observation space type: continuous\n",
      "        Vector Observation space size (per agent): 33\n",
      "        Number of stacked Vector Observation: 1\n",
      "        Vector Action space type: continuous\n",
      "        Vector Action space size (per agent): 4\n",
      "        Vector Action descriptions: , , , \n"
     ]
    }
   ],
   "source": [
    "# select this option to load version 2 (with 20 agents) of the environment\n",
    "#env = UnityEnvironment(file_name='/data/Reacher_Linux_NoVis/Reacher.x86_64')\n",
    "\n",
    "# if you use a Mac and Reacher in the same folder as the notebook\n",
    "env = UnityEnvironment(file_name='Reacher.app', seed=14)"
   ]
  },
  {
   "cell_type": "markdown",
   "metadata": {},
   "source": [
    "Environments contain **_brains_** which are responsible for deciding the actions of their associated agents. Here we check for the first brain available, and set it as the default brain we will be controlling from Python."
   ]
  },
  {
   "cell_type": "code",
   "execution_count": 3,
   "metadata": {},
   "outputs": [],
   "source": [
    "# Get the default brain\n",
    "brain_name = env.brain_names[0]\n",
    "brain = env.brains[brain_name]"
   ]
  },
  {
   "cell_type": "markdown",
   "metadata": {},
   "source": [
    "### 2. Examine the State and Action Spaces\n",
    "\n",
    "In this environment, a double-jointed arm can move to target locations. A reward of `+0.1` is provided for each step that the agent's hand is in the goal location. Thus, the goal of your agent is to maintain its position at the target location for as many time steps as possible.\n",
    "\n",
    "The observation space consists of `33` variables corresponding to position, rotation, velocity, and angular velocities of the arm.  Each action is a vector with four numbers, corresponding to torque applicable to two joints.  Every component in the action vector must be a number between `-1` and `1`.\n",
    "\n",
    "Run the code cell below to print some information about the environment."
   ]
  },
  {
   "cell_type": "code",
   "execution_count": 4,
   "metadata": {},
   "outputs": [
    {
     "name": "stdout",
     "output_type": "stream",
     "text": [
      "Number of agents: 20\n",
      "Size of each action: 4\n",
      "There are 20 agents. Each observes a state with length: 33\n",
      "The state for the first agent looks like:\n",
      " [ 0.00000000e+00 -4.00000000e+00  0.00000000e+00  1.00000000e+00\n",
      " -0.00000000e+00 -0.00000000e+00 -4.37113883e-08  0.00000000e+00\n",
      "  0.00000000e+00  0.00000000e+00  0.00000000e+00  0.00000000e+00\n",
      "  0.00000000e+00  0.00000000e+00 -1.00000000e+01  0.00000000e+00\n",
      "  1.00000000e+00 -0.00000000e+00 -0.00000000e+00 -4.37113883e-08\n",
      "  0.00000000e+00  0.00000000e+00  0.00000000e+00  0.00000000e+00\n",
      "  0.00000000e+00  0.00000000e+00 -2.60454559e+00 -1.00000000e+00\n",
      "  7.56414795e+00  0.00000000e+00  1.00000000e+00  0.00000000e+00\n",
      " -5.61742783e-01]\n"
     ]
    }
   ],
   "source": [
    "# Reset the environment\n",
    "env_info = env.reset(train_mode=True)[brain_name]\n",
    "\n",
    "# Number of agents\n",
    "num_agents = len(env_info.agents)\n",
    "print('Number of agents:', num_agents)\n",
    "\n",
    "# Size of each action\n",
    "action_size = brain.vector_action_space_size\n",
    "print('Size of each action:', action_size)\n",
    "\n",
    "# Examine the state space\n",
    "states = env_info.vector_observations\n",
    "state_size = states.shape[1]\n",
    "print('There are {} agents. Each observes a state with length: {}'.format(states.shape[0], state_size))\n",
    "print('The state for the first agent looks like:\\n', states[0])"
   ]
  },
  {
   "cell_type": "markdown",
   "metadata": {},
   "source": [
    "### 3. Take Random Actions in the Environment\n",
    "\n",
    "In the next code cell, you will learn how to exploit the Python API to control the agent and receive feedback from the environment.\n",
    "\n",
    "Once this cell is executed, you will watch the agent's performance, if it selects an action at random with each time step.  A window should pop up that allows you to observe the agent, as it moves through the environment.  \n",
    "\n",
    "Of course, as part of the project, you'll have to change the code so that the agent is able to use its experience to gradually choose better actions when interacting with the environment!"
   ]
  },
  {
   "cell_type": "code",
   "execution_count": 5,
   "metadata": {},
   "outputs": [],
   "source": [
    "# Default code. Go to section 4 for training the agent.\n",
    "#\n",
    "#env_info = env.reset(train_mode=False)[brain_name]     # reset the environment\n",
    "#states = env_info.vector_observations                  # get the current state (for each agent)\n",
    "#scores = np.zeros(num_agents)                          # initialize the score (for each agent)\n",
    "#while True:\n",
    "#    actions = np.random.randn(num_agents, action_size) # select an action (for each agent)\n",
    "#    actions = np.clip(actions, -1, 1)                  # all actions between -1 and 1\n",
    "#    env_info = env.step(actions)[brain_name]           # send all actions to tne environment\n",
    "#    next_states = env_info.vector_observations         # get next state (for each agent)\n",
    "#    rewards = env_info.rewards                         # get reward (for each agent)\n",
    "#    dones = env_info.local_done                        # see if episode finished\n",
    "#    scores += env_info.rewards                         # update the score (for each agent)\n",
    "#    states = next_states                               # roll over states to next time step\n",
    "#    if np.any(dones):                                  # exit loop if episode finished\n",
    "#        break\n",
    "#print('Total score (averaged over agents) this episode: {}'.format(np.mean(scores)))"
   ]
  },
  {
   "cell_type": "markdown",
   "metadata": {},
   "source": [
    "When finished, you can close the environment."
   ]
  },
  {
   "cell_type": "code",
   "execution_count": 6,
   "metadata": {},
   "outputs": [],
   "source": [
    "#env.close()"
   ]
  },
  {
   "cell_type": "markdown",
   "metadata": {},
   "source": [
    "### 4. It's Your Turn!\n",
    "\n",
    "Now it's your turn to train your own agent to solve the environment!  When training the environment, set `train_mode=True`, so that the line for resetting the environment looks like the following:\n",
    "```python\n",
    "env_info = env.reset(train_mode=True)[brain_name]\n",
    "```"
   ]
  },
  {
   "cell_type": "code",
   "execution_count": 7,
   "metadata": {},
   "outputs": [],
   "source": [
    "# Load the packages\n",
    "import matplotlib.pyplot as plt\n",
    "%matplotlib inline\n",
    "import random\n",
    "import copy\n",
    "import time\n",
    "from collections import deque, namedtuple\n",
    "import torch\n",
    "from ddpg_agent import Agent"
   ]
  },
  {
   "cell_type": "code",
   "execution_count": 8,
   "metadata": {},
   "outputs": [
    {
     "name": "stdout",
     "output_type": "stream",
     "text": [
      "Device used:  cpu\n",
      "Episode 10: \tAvg score (over last 100 EPs): 1.369\tElapsed time: 77.79\n",
      "Episode 20: \tAvg score (over last 100 EPs): 2.157\tElapsed time: 90.84\n",
      "Episode 30: \tAvg score (over last 100 EPs): 3.312\tElapsed time: 97.80\n",
      "Episode 40: \tAvg score (over last 100 EPs): 4.671\tElapsed time: 96.66\n",
      "Episode 50: \tAvg score (over last 100 EPs): 6.361\tElapsed time: 109.40\n",
      "Episode 60: \tAvg score (over last 100 EPs): 8.455\tElapsed time: 107.93\n",
      "Episode 70: \tAvg score (over last 100 EPs): 10.715\tElapsed time: 78.68\n",
      "Episode 80: \tAvg score (over last 100 EPs): 13.444\tElapsed time: 79.37\n",
      "Episode 90: \tAvg score (over last 100 EPs): 16.107\tElapsed time: 87.72\n",
      "Episode 100: \tAvg score (over last 100 EPs): 18.209\tElapsed time: 86.13\n",
      "Episode 110: \tAvg score (over last 100 EPs): 21.812\tElapsed time: 90.25\n",
      "Episode 120: \tAvg score (over last 100 EPs): 25.205\tElapsed time: 91.70\n",
      "Episode 130: \tAvg score (over last 100 EPs): 28.374\tElapsed time: 90.08\n",
      "\n",
      "Environment solved in 36 EPs!\n",
      "Avg Score (over last 100 EPs): 30.18\n"
     ]
    }
   ],
   "source": [
    "def ddpg(n_episodes=1000, threshold=30, print_every=10):\n",
    "    \"\"\"\n",
    "    Create the DDPG agent, output the history of average scores per episode and cummulative rewards per recent 100 episodes.\n",
    "    Params\n",
    "    =====\n",
    "        n_episodes (int): maximum number of training episodes\n",
    "        threshold (int): score required to solve the environment\n",
    "        print_every (int): frequency per which to print the performance\n",
    "    \"\"\"\n",
    "\n",
    "    # DDPG agent\n",
    "    agent = Agent(state_size, action_size, seed=1)\n",
    "\n",
    "    scores_tot = [] # stores the average scores per episode\n",
    "    scores_deque = deque(maxlen=100) # stores the recent 100 average scores\n",
    "    avg_scores_deque = [] # stores cummulative average scores over the last 100 episodes\n",
    "\n",
    "    # It's safe to keep track of elapsed times per print_every\n",
    "    start_time = time.time()\n",
    "\n",
    "    for i_episode in range(1, n_episodes+1):\n",
    "        # see section 3\n",
    "        env_info = env.reset(train_mode = True)[brain_name]    # reset the environment\n",
    "        states = env_info.vector_observations                  # get the current state (for each agent)\n",
    "        scores = np.zeros(num_agents)                          # initialize the score (for each agent)\n",
    "\n",
    "        # reset the noise and time_stamp\n",
    "        agent.reset()\n",
    "\n",
    "        while True:\n",
    "            actions = agent.act(states)                        # select actions as per policy\n",
    "            env_info = env.step(actions)[brain_name]           # send the actions to tne environment\n",
    "            next_states = env_info.vector_observations         # get the next states\n",
    "            rewards = env_info.rewards                         # get rewards\n",
    "            dones = env_info.local_done                        # see if episode has ended\n",
    "            scores += rewards                                  # update the score\n",
    "\n",
    "            agent.step(states, actions, rewards, next_states, dones) # store a tuple of experiences\n",
    "            states = next_states                               # proceed to the nex states\n",
    "\n",
    "            if np.any(dones):                                  # exit loop if at least one of the agents is finished\n",
    "                break\n",
    "\n",
    "        # Compute the average score per episode\n",
    "        score_ep = np.mean(scores)\n",
    "        # Store into each bucket\n",
    "        scores_tot.append(score_ep)\n",
    "        scores_deque.append(score_ep)\n",
    "        # Compute the average of the cummulative rewards in the recent 100 episodes and store into the bucket\n",
    "        avg_score_deque = np.mean(scores_deque)\n",
    "        avg_scores_deque.append(avg_score_deque)\n",
    "\n",
    "        # display the performance\n",
    "        if i_episode % print_every == 0:\n",
    "            elapsed_time = time.time() - start_time # stop to calculate the elapsed time\n",
    "            #print('{}'.format(scores_deque))\n",
    "            print('\\rEpisode {}: \\tAvg score (over last 100 EPs): {:.3f}\\tElapsed time: {:.2f}'.format(i_episode, avg_score_deque, elapsed_time))\n",
    "            start_time = time.time() #  start to calculate the next elapsed time\n",
    "\n",
    "        # see if the environment has been solved\n",
    "        if avg_score_deque > 30.0:\n",
    "            print('\\nEnvironment solved in {:d} EPs!'.format(i_episode-100))\n",
    "            print('Avg Score (over last 100 EPs): {:.2f}'.format(avg_score_deque))\n",
    "\n",
    "            break\n",
    "\n",
    "    torch.save(agent.actor_local.state_dict(), 'check_point_actor.pth')\n",
    "    torch.save(agent.critic_local.state_dict(), 'check_point_critic.pth')\n",
    "\n",
    "\n",
    "    return scores_tot, avg_scores_deque\n",
    "\n",
    "scores_tot, avg_scores_deque = ddpg(n_episodes=1000, print_every=10)"
   ]
  },
  {
   "cell_type": "code",
   "execution_count": null,
   "metadata": {},
   "outputs": [],
   "source": [
    "# Make sure that you close the environment!\n",
    "env.close()"
   ]
  },
  {
   "cell_type": "markdown",
   "metadata": {},
   "source": [
    "### 5. Results\n",
    "\n",
    "Below we plot the results in the previous section. The first figure shows the history of average scores over all of 20 agents per episode. In the second figure, the cummulative average score per 100 episodes tends to increase. This behavior continued smoothly until the environment was solved and thus the training stopped. Therefore, the implementation of the algorithm including the choice of hyper parameters worked well."
   ]
  },
  {
   "cell_type": "code",
   "execution_count": 10,
   "metadata": {},
   "outputs": [
    {
     "data": {
      "image/png": "[encoded data removed]",
      "text/plain": [
       "<Figure size 432x288 with 1 Axes>"
      ]
     },
     "metadata": {
      "needs_background": "light"
     },
     "output_type": "display_data"
    }
   ],
   "source": [
    "# Plot the trajectory of the average scores per episode\n",
    "fig = plt.figure()\n",
    "ax = fig.add_subplot(111)\n",
    "plt.plot(np.arange(1, len(scores_tot)+1), scores_tot)\n",
    "plt.ylabel('avg scores per episode')\n",
    "plt.xlabel('# of episodes')\n",
    "plt.savefig('scores.eps')\n",
    "plt.show()"
   ]
  },
  {
   "cell_type": "code",
   "execution_count": 13,
   "metadata": {},
   "outputs": [
    {
     "data": {
      "image/png": "[encoded data removed]",
      "text/plain": [
       "<Figure size 432x288 with 1 Axes>"
      ]
     },
     "metadata": {
      "needs_background": "light"
     },
     "output_type": "display_data"
    }
   ],
   "source": [
    "# Plot the trajectory of the average scores over last 100 episodes\n",
    "fig = plt.figure()\n",
    "ax = fig.add_subplot(111)\n",
    "plt.plot(np.arange(1, len(avg_scores_deque)+1), avg_scores_deque)\n",
    "plt.ylabel('avg scores over the last 100 episodes')\n",
    "plt.xlabel('# of episodes')\n",
    "plt.savefig('scores.eps')\n",
    "plt.show()"
   ]
  },
  {
   "cell_type": "code",
   "execution_count": null,
   "metadata": {},
   "outputs": [],
   "source": []
  }
 ],
 "metadata": {
  "interpreter": {
   "hash": "db45de3cf68c1700eaac8664dfe38760792a3c7e5025bb40396e854ee6c8f1de"
  },
  "kernelspec": {
   "display_name": "drlnd",
   "language": "python",
   "name": "python3"
  },
  "language_info": {
   "codemirror_mode": {
    "name": "ipython",
    "version": 3
   },
   "file_extension": ".py",
   "mimetype": "text/x-python",
   "name": "python",
   "nbconvert_exporter": "python",
   "pygments_lexer": "ipython3",
   "version": "3.6.13"
  },
  "varInspector": {
   "cols": {
    "lenName": 16,
    "lenType": 16,
    "lenVar": 40
   },
   "kernels_config": {
    "python": {
     "delete_cmd_postfix": "",
     "delete_cmd_prefix": "del ",
     "library": "var_list.py",
     "varRefreshCmd": "print(var_dic_list())"
    },
    "r": {
     "delete_cmd_postfix": ") ",
     "delete_cmd_prefix": "rm(",
     "library": "var_list.r",
     "varRefreshCmd": "cat(var_dic_list()) "
    }
   },
   "types_to_exclude": [
    "module",
    "function",
    "builtin_function_or_method",
    "instance",
    "_Feature"
   ],
   "window_display": false
  }
 },
 "nbformat": 4,
 "nbformat_minor": 2
}
